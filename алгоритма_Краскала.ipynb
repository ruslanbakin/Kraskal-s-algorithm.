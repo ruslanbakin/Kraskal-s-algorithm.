{
  "nbformat": 4,
  "nbformat_minor": 0,
  "metadata": {
    "colab": {
      "provenance": [],
      "authorship_tag": "ABX9TyN39ilE2Ur3ttk+FjS0aggk",
      "include_colab_link": true
    },
    "kernelspec": {
      "name": "python3",
      "display_name": "Python 3"
    },
    "language_info": {
      "name": "python"
    }
  },
  "cells": [
    {
      "cell_type": "markdown",
      "metadata": {
        "id": "view-in-github",
        "colab_type": "text"
      },
      "source": [
        "<a href=\"https://colab.research.google.com/github/ruslanbakin/Prim-s-algorithm-or-Kraskal-s-algorithm./blob/main/%D0%B0%D0%BB%D0%B3%D0%BE%D1%80%D0%B8%D1%82%D0%BC%D0%B0_%D0%9A%D1%80%D0%B0%D1%81%D0%BA%D0%B0%D0%BB%D0%B0.ipynb\" target=\"_parent\"><img src=\"https://colab.research.google.com/assets/colab-badge.svg\" alt=\"Open In Colab\"/></a>"
      ]
    },
    {
      "cell_type": "code",
      "execution_count": 1,
      "metadata": {
        "colab": {
          "base_uri": "https://localhost:8080/"
        },
        "id": "3PYl9cgY13Fb",
        "outputId": "a1c9e00a-7ac8-4b16-9850-60d333dcdc3a"
      },
      "outputs": [
        {
          "output_type": "stream",
          "name": "stdout",
          "text": [
            "Минимальное остовное дерево (рёбра в формате [u, v, w]): [[2, 3, 4], [0, 3, 5], [0, 1, 10]]\n"
          ]
        }
      ],
      "source": [
        "# Класс Graph представляет собой реализацию алгоритма Краскала для поиска минимального остовного дерева в графе.\n",
        "\n",
        "class Graph:\n",
        "    def __init__(self, vertices):\n",
        "        # Конструктор класса, инициализирующий количество вершин и список рёбер.\n",
        "        self.V = vertices\n",
        "        self.graph = []\n",
        "\n",
        "    def add_edge(self, u, v, w):\n",
        "        # Метод добавления ребра в граф с указанием вершин и веса.\n",
        "        self.graph.append([u, v, w])\n",
        "\n",
        "    def find(self, parent, i):\n",
        "        # Метод нахождения корня дерева, содержащего вершину i, с применением рекурсии.\n",
        "        if parent[i] == i:\n",
        "            return i\n",
        "        return self.find(parent, parent[i])\n",
        "\n",
        "    def union(self, parent, rank, x, y):\n",
        "        # Метод объединения двух поддеревьев с учетом ранга (высоты) каждого дерева.\n",
        "        x_root = self.find(parent, x)\n",
        "        y_root = self.find(parent, y)\n",
        "\n",
        "        if rank[x_root] < rank[y_root]:\n",
        "            parent[x_root] = y_root\n",
        "        elif rank[x_root] > rank[y_root]:\n",
        "            parent[y_root] = x_root\n",
        "        else:\n",
        "            parent[y_root] = x_root\n",
        "            rank[x_root] += 1\n",
        "\n",
        "    def kruskal_mst(self):\n",
        "        # Метод выполнения алгоритма Крускала для поиска минимального остовного дерева.\n",
        "\n",
        "        result = []  # Список для хранения рёбер минимального остовного дерева.\n",
        "\n",
        "        # Сортировка рёбер по весам.\n",
        "        self.graph = sorted(self.graph, key=lambda item: item[2])\n",
        "\n",
        "        parent = []  # Список для хранения представителя (корня) каждой вершины.\n",
        "        rank = []    # Список для хранения ранга (высоты) каждого дерева.\n",
        "\n",
        "        # Инициализация каждой вершины в отдельное дерево.\n",
        "        for node in range(self.V):\n",
        "            parent.append(node)\n",
        "            rank.append(0)\n",
        "\n",
        "        i, e = 0, 0  # Индексы для перебора рёбер и счётчик добавленных рёбер в остовное дерево.\n",
        "\n",
        "        while e < self.V - 1:\n",
        "            u, v, w = self.graph[i]\n",
        "            i = i + 1\n",
        "\n",
        "            x = self.find(parent, u)\n",
        "            y = self.find(parent, v)\n",
        "\n",
        "            if x != y:\n",
        "                e = e + 1\n",
        "                result.append([u, v, w])\n",
        "                self.union(parent, rank, x, y)\n",
        "\n",
        "        return result\n",
        "\n",
        "\n",
        "# Пример использования класса Graph для поиска минимального остовного дерева в графе.\n",
        "g = Graph(4)\n",
        "g.add_edge(0, 1, 10)\n",
        "g.add_edge(0, 2, 6)\n",
        "g.add_edge(0, 3, 5)\n",
        "g.add_edge(1, 3, 15)\n",
        "g.add_edge(2, 3, 4)\n",
        "\n",
        "minimum_spanning_tree = g.kruskal_mst()\n",
        "print(\"Минимальное остовное дерево (рёбра в формате [u, v, w]):\", minimum_spanning_tree)\n"
      ]
    }
  ]
}